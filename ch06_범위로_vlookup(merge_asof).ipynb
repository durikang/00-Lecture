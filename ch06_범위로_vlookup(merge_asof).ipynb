{
  "nbformat": 4,
  "nbformat_minor": 0,
  "metadata": {
    "colab": {
      "provenance": [],
      "authorship_tag": "ABX9TyM3SSOcPnTmmXb+b9iv4pjG",
      "include_colab_link": true
    },
    "kernelspec": {
      "name": "python3",
      "display_name": "Python 3"
    },
    "language_info": {
      "name": "python"
    }
  },
  "cells": [
    {
      "cell_type": "markdown",
      "metadata": {
        "id": "view-in-github",
        "colab_type": "text"
      },
      "source": [
        "<a href=\"https://colab.research.google.com/github/durikang/00-Lecture/blob/master/ch06_%EB%B2%94%EC%9C%84%EB%A1%9C_vlookup(merge_asof).ipynb\" target=\"_parent\"><img src=\"https://colab.research.google.com/assets/colab-badge.svg\" alt=\"Open In Colab\"/></a>"
      ]
    },
    {
      "cell_type": "code",
      "execution_count": 11,
      "metadata": {
        "colab": {
          "base_uri": "https://localhost:8080/"
        },
        "id": "QCh1EZVezL5Q",
        "outputId": "30691a76-5523-49f3-e945-99d556d0c030"
      },
      "outputs": [
        {
          "output_type": "stream",
          "name": "stdout",
          "text": [
            "  이름  점수 학점\n",
            "0  라  60  F\n",
            "1  나  72  C\n",
            "2  다  80  B\n",
            "3  가  88  B\n",
            "4  마  95  A\n"
          ]
        }
      ],
      "source": [
        "# pd.merge_asof(left, right, on=None, by =None, direction='backward')\n",
        "# on(인수는 열의 레이블)\n",
        "# 유사일치로 병합할 기준이 되는 열의 레이블을 지정\n",
        "# 반드시 하나의 열만 지정해야 한다.\n",
        "# 숫자나 datatime 같이 유사일치가 간으한 자료형의 열이여야 한다.\n",
        "# 오름차순으로 정렬이 되어 있어야 한다.\n",
        "# 기본값은 존재하나 기본값을 사용하지 말고 지정하도록 하자.\n",
        "\n",
        "# by(인수 열의 레이블 또는 열의 레이블의 리스트)\n",
        "# 정확히 일치시킬 열의 지정하는 인자\n",
        "\n",
        "# allow_exact_matches(인수는 bool/기본값 True)\n",
        "# 경계값을 어느 그룹에서 넣어 병합하느냐를 결정하는 인자\n",
        "\n",
        "# direction(인수는 'backward','forward',nearest' / 기본값은 'backward')\n",
        "# 경계를 기준으로 유사일치시킬 방향을 결정하는 인자\n",
        "import pandas as pd\n",
        "\n",
        "# 데이터 리스트와 컬럼 이름을 수정\n",
        "pd.options.display.max_rows = 6 # 판다스 버전업에 따라 6행만 출력의 바뀐 코드\n",
        "data1 = [['가', 88], ['나', 72], ['다', 80], ['라', 60], ['마', 95]]\n",
        "data2 = [[90, 'A'], [80, 'B'], [70, 'C'], [0, 'F']]\n",
        "df1 = pd.DataFrame(data1, columns=['이름', '점수'])\n",
        "df2 = pd.DataFrame(data2, columns=['점수', '학점'])\n",
        "\n",
        "df1.sort_values('점수', inplace=True) # asof를 쓰기 위해 정렬부터 여기서 inplace=True는 원본객체를 직접 수정한다는 뜻\n",
        "df2.sort_values('점수', inplace=True) # asof를 쓰기 위해 정렬부터\n",
        "\n",
        "asofDf = pd.merge_asof(df1, df2, on='점수')\n",
        "print(asofDf)\n"
      ]
    }
  ]
}